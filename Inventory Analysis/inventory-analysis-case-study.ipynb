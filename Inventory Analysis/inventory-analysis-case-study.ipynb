{
 "cells": [
  {
   "cell_type": "markdown",
   "id": "d9fbb8d1",
   "metadata": {
    "_cell_guid": "b1076dfc-b9ad-4769-8c92-a6c4dae69d19",
    "_uuid": "8f2839f25d086af736a60e9eeb907d3b93b6e0e5",
    "papermill": {
     "duration": 0.011624,
     "end_time": "2023-07-14T04:50:39.671016",
     "exception": false,
     "start_time": "2023-07-14T04:50:39.659392",
     "status": "completed"
    },
    "tags": []
   },
   "source": [
    "![](https://www.logisticsbureau.com/blog/wp-content/uploads/2012/05/Blog_What-is-Inventory.png)"
   ]
  },
  {
   "cell_type": "markdown",
   "id": "7b202aa9",
   "metadata": {
    "papermill": {
     "duration": 0.010806,
     "end_time": "2023-07-14T04:50:39.693094",
     "exception": false,
     "start_time": "2023-07-14T04:50:39.682288",
     "status": "completed"
    },
    "tags": []
   },
   "source": [
    "<center> <h1 style=\"background-color:blue; color:white; font-size:40px; font-weight:bold; font-family:Times New Roman;\" >Inventory Analysis Case Study</h1></center>"
   ]
  },
  {
   "cell_type": "markdown",
   "id": "fe822e07",
   "metadata": {
    "papermill": {
     "duration": 0.010628,
     "end_time": "2023-07-14T04:50:39.714639",
     "exception": false,
     "start_time": "2023-07-14T04:50:39.704011",
     "status": "completed"
    },
    "tags": []
   },
   "source": [
    " <h1 style=\"color:red;font-weight:bold; border-bottom: 5px solid red; font-family:Times New Roman;\" >Project Overview</h1>"
   ]
  },
  {
   "cell_type": "markdown",
   "id": "b4206e85",
   "metadata": {
    "papermill": {
     "duration": 0.010643,
     "end_time": "2023-07-14T04:50:39.736307",
     "exception": false,
     "start_time": "2023-07-14T04:50:39.725664",
     "status": "completed"
    },
    "tags": []
   },
   "source": [
    "<p style=\"font-family:Times New Roman; font-size:20px;\" >PwC has built this case study to be used in university classrooms to enhance students’ understanding and knowledge of data analytics, including leveraging analytics to make business decisions\n",
    "By completing this case study, students will obtain the following-</p>\n",
    "<pre style=\"font-family:Times New Roman; font-size:20px;\">\n",
    "* An understanding of what data analytics and visualization are\n",
    "* The ability to utilize analytic tools \n",
    "* Comfort in leveraging data in making decisions \n",
    "* Skills to select data components for analysis and illustrate results to highlight data tracking and identify conditions for exception analysis or business advisory strategy</pre>"
   ]
  },
  {
   "cell_type": "markdown",
   "id": "79746a6b",
   "metadata": {
    "papermill": {
     "duration": 0.010805,
     "end_time": "2023-07-14T04:50:39.757892",
     "exception": false,
     "start_time": "2023-07-14T04:50:39.747087",
     "status": "completed"
    },
    "tags": []
   },
   "source": [
    " <h1 style=\"color:red;font-weight:bold; border-bottom: 5px solid red; font-family:Times New Roman;\" >Recommended Audience</h1>"
   ]
  },
  {
   "cell_type": "markdown",
   "id": "1865ae49",
   "metadata": {
    "papermill": {
     "duration": 0.010806,
     "end_time": "2023-07-14T04:50:39.779396",
     "exception": false,
     "start_time": "2023-07-14T04:50:39.768590",
     "status": "completed"
    },
    "tags": []
   },
   "source": [
    "<p style=\"font-family:Times New Roman; font-size:20px;\" >It is recommended that this project be introduced to students who have successfully completed Intermediate Accounting.  It could be easily embedded into an Accounting Information Systems (AIS or CIS) course, a Data Analytics course or an Advanced Audit course.\n",
    "It is recommended that the students work in small groups of 2-3 to complete the pre-work, in-class activities, and case study questions.  You can have larger groups but that will reduce the level of hands-on engagement by all group members.</p>"
   ]
  },
  {
   "cell_type": "markdown",
   "id": "99000194",
   "metadata": {
    "papermill": {
     "duration": 0.01077,
     "end_time": "2023-07-14T04:50:39.801119",
     "exception": false,
     "start_time": "2023-07-14T04:50:39.790349",
     "status": "completed"
    },
    "tags": []
   },
   "source": [
    "<h1 style=\"color:red;font-weight:bold; border-bottom: 5px solid red; font-family:Times New Roman;\" >Case Background</h1>"
   ]
  },
  {
   "cell_type": "markdown",
   "id": "af173a3a",
   "metadata": {
    "papermill": {
     "duration": 0.010533,
     "end_time": "2023-07-14T04:50:39.822329",
     "exception": false,
     "start_time": "2023-07-14T04:50:39.811796",
     "status": "completed"
    },
    "tags": []
   },
   "source": [
    "<p style=\"font-family:Times New Roman; font-size:20px;\" > Our case is based upon Bibitor, LLC*note1, a liquor store chain in the fictional state of Lincoln. It is a major retailer with approximately 80 locations and total sales in excess of $450 million.\n",
    "Bibitor has asked the team to complete due diligence on their wine and spirits business looking at data for their beginning and ending inventory, purchases and sales for a 12 month period</p>"
   ]
  },
  {
   "cell_type": "markdown",
   "id": "a2a0f1aa",
   "metadata": {
    "papermill": {
     "duration": 0.010825,
     "end_time": "2023-07-14T04:50:39.844128",
     "exception": false,
     "start_time": "2023-07-14T04:50:39.833303",
     "status": "completed"
    },
    "tags": []
   },
   "source": [
    "<h1 style=\"color:red;font-weight:bold; border-bottom: 5px solid red; font-family:Times New Roman;\" >Case Format and Learning Objectives:</h1>"
   ]
  },
  {
   "cell_type": "markdown",
   "id": "bc2ae8a6",
   "metadata": {
    "papermill": {
     "duration": 0.011018,
     "end_time": "2023-07-14T04:50:39.866021",
     "exception": false,
     "start_time": "2023-07-14T04:50:39.855003",
     "status": "completed"
    },
    "tags": []
   },
   "source": [
    "<p style=\"font-family:Times New Roman; font-size:20px;\" >This case is designed to be delivered in three phases.  Each phase includes an instructional component to learn how to manage the data within the tool and then there are case study exercises designed to apply the skills addressed.</p>"
   ]
  },
  {
   "cell_type": "markdown",
   "id": "054f6487",
   "metadata": {
    "papermill": {
     "duration": 0.010879,
     "end_time": "2023-07-14T04:50:39.887961",
     "exception": false,
     "start_time": "2023-07-14T04:50:39.877082",
     "status": "completed"
    },
    "tags": []
   },
   "source": [
    "![](https://www.netsuite.com/portal/assets/img/business-articles/inventory-management/social-days-in-inventory.jpg)"
   ]
  },
  {
   "cell_type": "code",
   "execution_count": 1,
   "id": "14aba30a",
   "metadata": {
    "execution": {
     "iopub.execute_input": "2023-07-14T04:50:39.913262Z",
     "iopub.status.busy": "2023-07-14T04:50:39.912822Z",
     "iopub.status.idle": "2023-07-14T04:50:41.225641Z",
     "shell.execute_reply": "2023-07-14T04:50:41.224482Z"
    },
    "papermill": {
     "duration": 1.328933,
     "end_time": "2023-07-14T04:50:41.227994",
     "exception": false,
     "start_time": "2023-07-14T04:50:39.899061",
     "status": "completed"
    },
    "tags": []
   },
   "outputs": [
    {
     "name": "stderr",
     "output_type": "stream",
     "text": [
      "/opt/conda/lib/python3.10/site-packages/scipy/__init__.py:146: UserWarning: A NumPy version >=1.16.5 and <1.23.0 is required for this version of SciPy (detected version 1.23.5\n",
      "  warnings.warn(f\"A NumPy version >={np_minversion} and <{np_maxversion}\"\n"
     ]
    },
    {
     "name": "stdout",
     "output_type": "stream",
     "text": [
      "/kaggle/input/inventory-analysis-case-study/InvoicePurchases12312016.csv\n",
      "/kaggle/input/inventory-analysis-case-study/EndInvFINAL12312016.csv\n",
      "/kaggle/input/inventory-analysis-case-study/SalesFINAL12312016.csv\n",
      "/kaggle/input/inventory-analysis-case-study/BegInvFINAL12312016.csv\n",
      "/kaggle/input/inventory-analysis-case-study/2017PurchasePricesDec.csv\n",
      "/kaggle/input/inventory-analysis-case-study/PurchasesFINAL12312016.csv\n"
     ]
    }
   ],
   "source": [
    "# This Python 3 environment comes with many helpful analytics libraries installed\n",
    "# It is defined by the kaggle/python Docker image: https://github.com/kaggle/docker-python\n",
    "# For example, here's several helpful packages to load\n",
    "\n",
    "import numpy as np # linear algebra\n",
    "import pandas as pd # data processing, CSV file I/O (e.g. pd.read_csv)\n",
    "import seaborn as sns\n",
    "import matplotlib.pyplot as plt\n",
    "# Input data files are available in the read-only \"../input/\" directory\n",
    "# For example, running this (by clicking run or pressing Shift+Enter) will list all files under the input directory\n",
    "\n",
    "import os\n",
    "for dirname, _, filenames in os.walk('/kaggle/input'):\n",
    "    for filename in filenames:\n",
    "        print(os.path.join(dirname, filename))\n",
    "\n",
    "# You can write up to 20GB to the current directory (/kaggle/working/) that gets preserved as output when you create a version using \"Save & Run All\" \n",
    "# You can also write temporary files to /kaggle/temp/, but they won't be saved outside of the current session"
   ]
  },
  {
   "cell_type": "markdown",
   "id": "100d46b0",
   "metadata": {
    "papermill": {
     "duration": 0.010782,
     "end_time": "2023-07-14T04:50:41.249898",
     "exception": false,
     "start_time": "2023-07-14T04:50:41.239116",
     "status": "completed"
    },
    "tags": []
   },
   "source": [
    "# Data collection"
   ]
  },
  {
   "cell_type": "markdown",
   "id": "8d95bf0c",
   "metadata": {
    "papermill": {
     "duration": 0.011401,
     "end_time": "2023-07-14T04:50:41.272492",
     "exception": false,
     "start_time": "2023-07-14T04:50:41.261091",
     "status": "completed"
    },
    "tags": []
   },
   "source": [
    "<center> <h1 style=\"background-color:black; color:white; font-weight:bold; font-family:Times New Roman;\" >Data collection</h1></center>"
   ]
  },
  {
   "cell_type": "code",
   "execution_count": 2,
   "id": "a2f40103",
   "metadata": {
    "execution": {
     "iopub.execute_input": "2023-07-14T04:50:41.297391Z",
     "iopub.status.busy": "2023-07-14T04:50:41.296345Z",
     "iopub.status.idle": "2023-07-14T04:50:56.445794Z",
     "shell.execute_reply": "2023-07-14T04:50:56.444754Z"
    },
    "papermill": {
     "duration": 15.164399,
     "end_time": "2023-07-14T04:50:56.448369",
     "exception": false,
     "start_time": "2023-07-14T04:50:41.283970",
     "status": "completed"
    },
    "tags": []
   },
   "outputs": [
    {
     "data": {
      "text/html": [
       "<div>\n",
       "<style scoped>\n",
       "    .dataframe tbody tr th:only-of-type {\n",
       "        vertical-align: middle;\n",
       "    }\n",
       "\n",
       "    .dataframe tbody tr th {\n",
       "        vertical-align: top;\n",
       "    }\n",
       "\n",
       "    .dataframe thead th {\n",
       "        text-align: right;\n",
       "    }\n",
       "</style>\n",
       "<table border=\"1\" class=\"dataframe\">\n",
       "  <thead>\n",
       "    <tr style=\"text-align: right;\">\n",
       "      <th></th>\n",
       "      <th>VendorNumber</th>\n",
       "      <th>VendorName</th>\n",
       "      <th>InvoiceDate</th>\n",
       "      <th>PONumber</th>\n",
       "      <th>PODate</th>\n",
       "      <th>PayDate</th>\n",
       "      <th>Quantity</th>\n",
       "      <th>Dollars</th>\n",
       "      <th>Freight</th>\n",
       "      <th>Approval</th>\n",
       "    </tr>\n",
       "  </thead>\n",
       "  <tbody>\n",
       "    <tr>\n",
       "      <th>0</th>\n",
       "      <td>105</td>\n",
       "      <td>ALTAMAR BRANDS LLC</td>\n",
       "      <td>2016-01-04</td>\n",
       "      <td>8124</td>\n",
       "      <td>2015-12-21</td>\n",
       "      <td>2016-02-16</td>\n",
       "      <td>6</td>\n",
       "      <td>214.26</td>\n",
       "      <td>3.47</td>\n",
       "      <td>None</td>\n",
       "    </tr>\n",
       "    <tr>\n",
       "      <th>1</th>\n",
       "      <td>4466</td>\n",
       "      <td>AMERICAN VINTAGE BEVERAGE</td>\n",
       "      <td>2016-01-07</td>\n",
       "      <td>8137</td>\n",
       "      <td>2015-12-22</td>\n",
       "      <td>2016-02-21</td>\n",
       "      <td>15</td>\n",
       "      <td>140.55</td>\n",
       "      <td>8.57</td>\n",
       "      <td>None</td>\n",
       "    </tr>\n",
       "    <tr>\n",
       "      <th>2</th>\n",
       "      <td>388</td>\n",
       "      <td>ATLANTIC IMPORTING COMPANY</td>\n",
       "      <td>2016-01-09</td>\n",
       "      <td>8169</td>\n",
       "      <td>2015-12-24</td>\n",
       "      <td>2016-02-16</td>\n",
       "      <td>5</td>\n",
       "      <td>106.60</td>\n",
       "      <td>4.61</td>\n",
       "      <td>None</td>\n",
       "    </tr>\n",
       "    <tr>\n",
       "      <th>3</th>\n",
       "      <td>480</td>\n",
       "      <td>BACARDI USA INC</td>\n",
       "      <td>2016-01-12</td>\n",
       "      <td>8106</td>\n",
       "      <td>2015-12-20</td>\n",
       "      <td>2016-02-05</td>\n",
       "      <td>10100</td>\n",
       "      <td>137483.78</td>\n",
       "      <td>2935.20</td>\n",
       "      <td>None</td>\n",
       "    </tr>\n",
       "    <tr>\n",
       "      <th>4</th>\n",
       "      <td>516</td>\n",
       "      <td>BANFI PRODUCTS CORP</td>\n",
       "      <td>2016-01-07</td>\n",
       "      <td>8170</td>\n",
       "      <td>2015-12-24</td>\n",
       "      <td>2016-02-12</td>\n",
       "      <td>1935</td>\n",
       "      <td>15527.25</td>\n",
       "      <td>429.20</td>\n",
       "      <td>None</td>\n",
       "    </tr>\n",
       "  </tbody>\n",
       "</table>\n",
       "</div>"
      ],
      "text/plain": [
       "   VendorNumber                   VendorName InvoiceDate  PONumber  \\\n",
       "0           105  ALTAMAR BRANDS LLC           2016-01-04      8124   \n",
       "1          4466  AMERICAN VINTAGE BEVERAGE    2016-01-07      8137   \n",
       "2           388  ATLANTIC IMPORTING COMPANY   2016-01-09      8169   \n",
       "3           480  BACARDI USA INC              2016-01-12      8106   \n",
       "4           516  BANFI PRODUCTS CORP          2016-01-07      8170   \n",
       "\n",
       "       PODate     PayDate  Quantity    Dollars  Freight Approval  \n",
       "0  2015-12-21  2016-02-16         6     214.26     3.47     None  \n",
       "1  2015-12-22  2016-02-21        15     140.55     8.57     None  \n",
       "2  2015-12-24  2016-02-16         5     106.60     4.61     None  \n",
       "3  2015-12-20  2016-02-05     10100  137483.78  2935.20     None  \n",
       "4  2015-12-24  2016-02-12      1935   15527.25   429.20     None  "
      ]
     },
     "execution_count": 2,
     "metadata": {},
     "output_type": "execute_result"
    }
   ],
   "source": [
    "purches = pd.read_csv('/kaggle/input/inventory-analysis-case-study/InvoicePurchases12312016.csv')\n",
    "InvFinal = pd.read_csv('/kaggle/input/inventory-analysis-case-study/EndInvFINAL12312016.csv')\n",
    "sales = pd.read_csv('/kaggle/input/inventory-analysis-case-study/SalesFINAL12312016.csv')\n",
    "BegInv = pd.read_csv('/kaggle/input/inventory-analysis-case-study/BegInvFINAL12312016.csv')\n",
    "PurchasePrice = pd.read_csv('/kaggle/input/inventory-analysis-case-study/2017PurchasePricesDec.csv')\n",
    "PurchasesFinal = pd.read_csv('/kaggle/input/inventory-analysis-case-study/PurchasesFINAL12312016.csv')\n",
    "purches.head(5)"
   ]
  },
  {
   "cell_type": "code",
   "execution_count": 3,
   "id": "28e434c2",
   "metadata": {
    "execution": {
     "iopub.execute_input": "2023-07-14T04:50:56.476418Z",
     "iopub.status.busy": "2023-07-14T04:50:56.474386Z",
     "iopub.status.idle": "2023-07-14T04:50:56.490585Z",
     "shell.execute_reply": "2023-07-14T04:50:56.489376Z"
    },
    "papermill": {
     "duration": 0.032668,
     "end_time": "2023-07-14T04:50:56.493492",
     "exception": false,
     "start_time": "2023-07-14T04:50:56.460824",
     "status": "completed"
    },
    "tags": []
   },
   "outputs": [
    {
     "data": {
      "text/html": [
       "<div>\n",
       "<style scoped>\n",
       "    .dataframe tbody tr th:only-of-type {\n",
       "        vertical-align: middle;\n",
       "    }\n",
       "\n",
       "    .dataframe tbody tr th {\n",
       "        vertical-align: top;\n",
       "    }\n",
       "\n",
       "    .dataframe thead th {\n",
       "        text-align: right;\n",
       "    }\n",
       "</style>\n",
       "<table border=\"1\" class=\"dataframe\">\n",
       "  <thead>\n",
       "    <tr style=\"text-align: right;\">\n",
       "      <th></th>\n",
       "      <th>InventoryId</th>\n",
       "      <th>Store</th>\n",
       "      <th>City</th>\n",
       "      <th>Brand</th>\n",
       "      <th>Description</th>\n",
       "      <th>Size</th>\n",
       "      <th>onHand</th>\n",
       "      <th>Price</th>\n",
       "      <th>endDate</th>\n",
       "    </tr>\n",
       "  </thead>\n",
       "  <tbody>\n",
       "    <tr>\n",
       "      <th>0</th>\n",
       "      <td>1_HARDERSFIELD_58</td>\n",
       "      <td>1</td>\n",
       "      <td>HARDERSFIELD</td>\n",
       "      <td>58</td>\n",
       "      <td>Gekkeikan Black &amp; Gold Sake</td>\n",
       "      <td>750mL</td>\n",
       "      <td>11</td>\n",
       "      <td>12.99</td>\n",
       "      <td>2016-12-31</td>\n",
       "    </tr>\n",
       "    <tr>\n",
       "      <th>1</th>\n",
       "      <td>1_HARDERSFIELD_62</td>\n",
       "      <td>1</td>\n",
       "      <td>HARDERSFIELD</td>\n",
       "      <td>62</td>\n",
       "      <td>Herradura Silver Tequila</td>\n",
       "      <td>750mL</td>\n",
       "      <td>7</td>\n",
       "      <td>36.99</td>\n",
       "      <td>2016-12-31</td>\n",
       "    </tr>\n",
       "    <tr>\n",
       "      <th>2</th>\n",
       "      <td>1_HARDERSFIELD_63</td>\n",
       "      <td>1</td>\n",
       "      <td>HARDERSFIELD</td>\n",
       "      <td>63</td>\n",
       "      <td>Herradura Reposado Tequila</td>\n",
       "      <td>750mL</td>\n",
       "      <td>7</td>\n",
       "      <td>38.99</td>\n",
       "      <td>2016-12-31</td>\n",
       "    </tr>\n",
       "    <tr>\n",
       "      <th>3</th>\n",
       "      <td>1_HARDERSFIELD_72</td>\n",
       "      <td>1</td>\n",
       "      <td>HARDERSFIELD</td>\n",
       "      <td>72</td>\n",
       "      <td>No. 3 London Dry Gin</td>\n",
       "      <td>750mL</td>\n",
       "      <td>4</td>\n",
       "      <td>34.99</td>\n",
       "      <td>2016-12-31</td>\n",
       "    </tr>\n",
       "    <tr>\n",
       "      <th>4</th>\n",
       "      <td>1_HARDERSFIELD_75</td>\n",
       "      <td>1</td>\n",
       "      <td>HARDERSFIELD</td>\n",
       "      <td>75</td>\n",
       "      <td>Three Olives Tomato Vodka</td>\n",
       "      <td>750mL</td>\n",
       "      <td>7</td>\n",
       "      <td>14.99</td>\n",
       "      <td>2016-12-31</td>\n",
       "    </tr>\n",
       "  </tbody>\n",
       "</table>\n",
       "</div>"
      ],
      "text/plain": [
       "         InventoryId  Store          City  Brand                  Description  \\\n",
       "0  1_HARDERSFIELD_58      1  HARDERSFIELD     58  Gekkeikan Black & Gold Sake   \n",
       "1  1_HARDERSFIELD_62      1  HARDERSFIELD     62     Herradura Silver Tequila   \n",
       "2  1_HARDERSFIELD_63      1  HARDERSFIELD     63   Herradura Reposado Tequila   \n",
       "3  1_HARDERSFIELD_72      1  HARDERSFIELD     72         No. 3 London Dry Gin   \n",
       "4  1_HARDERSFIELD_75      1  HARDERSFIELD     75    Three Olives Tomato Vodka   \n",
       "\n",
       "    Size  onHand  Price     endDate  \n",
       "0  750mL      11  12.99  2016-12-31  \n",
       "1  750mL       7  36.99  2016-12-31  \n",
       "2  750mL       7  38.99  2016-12-31  \n",
       "3  750mL       4  34.99  2016-12-31  \n",
       "4  750mL       7  14.99  2016-12-31  "
      ]
     },
     "execution_count": 3,
     "metadata": {},
     "output_type": "execute_result"
    }
   ],
   "source": [
    "InvFinal.head(5)"
   ]
  },
  {
   "cell_type": "code",
   "execution_count": 4,
   "id": "44c38007",
   "metadata": {
    "execution": {
     "iopub.execute_input": "2023-07-14T04:50:56.522981Z",
     "iopub.status.busy": "2023-07-14T04:50:56.522606Z",
     "iopub.status.idle": "2023-07-14T04:50:56.540611Z",
     "shell.execute_reply": "2023-07-14T04:50:56.539654Z"
    },
    "papermill": {
     "duration": 0.035398,
     "end_time": "2023-07-14T04:50:56.542789",
     "exception": false,
     "start_time": "2023-07-14T04:50:56.507391",
     "status": "completed"
    },
    "tags": []
   },
   "outputs": [
    {
     "data": {
      "text/html": [
       "<div>\n",
       "<style scoped>\n",
       "    .dataframe tbody tr th:only-of-type {\n",
       "        vertical-align: middle;\n",
       "    }\n",
       "\n",
       "    .dataframe tbody tr th {\n",
       "        vertical-align: top;\n",
       "    }\n",
       "\n",
       "    .dataframe thead th {\n",
       "        text-align: right;\n",
       "    }\n",
       "</style>\n",
       "<table border=\"1\" class=\"dataframe\">\n",
       "  <thead>\n",
       "    <tr style=\"text-align: right;\">\n",
       "      <th></th>\n",
       "      <th>InventoryId</th>\n",
       "      <th>Store</th>\n",
       "      <th>Brand</th>\n",
       "      <th>Description</th>\n",
       "      <th>Size</th>\n",
       "      <th>SalesQuantity</th>\n",
       "      <th>SalesDollars</th>\n",
       "      <th>SalesPrice</th>\n",
       "      <th>SalesDate</th>\n",
       "      <th>Volume</th>\n",
       "      <th>Classification</th>\n",
       "      <th>ExciseTax</th>\n",
       "      <th>VendorNo</th>\n",
       "      <th>VendorName</th>\n",
       "    </tr>\n",
       "  </thead>\n",
       "  <tbody>\n",
       "    <tr>\n",
       "      <th>0</th>\n",
       "      <td>1_HARDERSFIELD_1004</td>\n",
       "      <td>1</td>\n",
       "      <td>1004</td>\n",
       "      <td>Jim Beam w/2 Rocks Glasses</td>\n",
       "      <td>750mL</td>\n",
       "      <td>1</td>\n",
       "      <td>16.49</td>\n",
       "      <td>16.49</td>\n",
       "      <td>1/1/2016</td>\n",
       "      <td>750</td>\n",
       "      <td>1</td>\n",
       "      <td>0.79</td>\n",
       "      <td>12546</td>\n",
       "      <td>JIM BEAM BRANDS COMPANY</td>\n",
       "    </tr>\n",
       "    <tr>\n",
       "      <th>1</th>\n",
       "      <td>1_HARDERSFIELD_1004</td>\n",
       "      <td>1</td>\n",
       "      <td>1004</td>\n",
       "      <td>Jim Beam w/2 Rocks Glasses</td>\n",
       "      <td>750mL</td>\n",
       "      <td>2</td>\n",
       "      <td>32.98</td>\n",
       "      <td>16.49</td>\n",
       "      <td>1/2/2016</td>\n",
       "      <td>750</td>\n",
       "      <td>1</td>\n",
       "      <td>1.57</td>\n",
       "      <td>12546</td>\n",
       "      <td>JIM BEAM BRANDS COMPANY</td>\n",
       "    </tr>\n",
       "    <tr>\n",
       "      <th>2</th>\n",
       "      <td>1_HARDERSFIELD_1004</td>\n",
       "      <td>1</td>\n",
       "      <td>1004</td>\n",
       "      <td>Jim Beam w/2 Rocks Glasses</td>\n",
       "      <td>750mL</td>\n",
       "      <td>1</td>\n",
       "      <td>16.49</td>\n",
       "      <td>16.49</td>\n",
       "      <td>1/3/2016</td>\n",
       "      <td>750</td>\n",
       "      <td>1</td>\n",
       "      <td>0.79</td>\n",
       "      <td>12546</td>\n",
       "      <td>JIM BEAM BRANDS COMPANY</td>\n",
       "    </tr>\n",
       "    <tr>\n",
       "      <th>3</th>\n",
       "      <td>1_HARDERSFIELD_1004</td>\n",
       "      <td>1</td>\n",
       "      <td>1004</td>\n",
       "      <td>Jim Beam w/2 Rocks Glasses</td>\n",
       "      <td>750mL</td>\n",
       "      <td>1</td>\n",
       "      <td>14.49</td>\n",
       "      <td>14.49</td>\n",
       "      <td>1/8/2016</td>\n",
       "      <td>750</td>\n",
       "      <td>1</td>\n",
       "      <td>0.79</td>\n",
       "      <td>12546</td>\n",
       "      <td>JIM BEAM BRANDS COMPANY</td>\n",
       "    </tr>\n",
       "    <tr>\n",
       "      <th>4</th>\n",
       "      <td>1_HARDERSFIELD_1005</td>\n",
       "      <td>1</td>\n",
       "      <td>1005</td>\n",
       "      <td>Maker's Mark Combo Pack</td>\n",
       "      <td>375mL 2 Pk</td>\n",
       "      <td>2</td>\n",
       "      <td>69.98</td>\n",
       "      <td>34.99</td>\n",
       "      <td>1/9/2016</td>\n",
       "      <td>375</td>\n",
       "      <td>1</td>\n",
       "      <td>0.79</td>\n",
       "      <td>12546</td>\n",
       "      <td>JIM BEAM BRANDS COMPANY</td>\n",
       "    </tr>\n",
       "  </tbody>\n",
       "</table>\n",
       "</div>"
      ],
      "text/plain": [
       "           InventoryId  Store  Brand                 Description        Size  \\\n",
       "0  1_HARDERSFIELD_1004      1   1004  Jim Beam w/2 Rocks Glasses       750mL   \n",
       "1  1_HARDERSFIELD_1004      1   1004  Jim Beam w/2 Rocks Glasses       750mL   \n",
       "2  1_HARDERSFIELD_1004      1   1004  Jim Beam w/2 Rocks Glasses       750mL   \n",
       "3  1_HARDERSFIELD_1004      1   1004  Jim Beam w/2 Rocks Glasses       750mL   \n",
       "4  1_HARDERSFIELD_1005      1   1005     Maker's Mark Combo Pack  375mL 2 Pk   \n",
       "\n",
       "   SalesQuantity  SalesDollars  SalesPrice SalesDate  Volume  Classification  \\\n",
       "0              1         16.49       16.49  1/1/2016     750               1   \n",
       "1              2         32.98       16.49  1/2/2016     750               1   \n",
       "2              1         16.49       16.49  1/3/2016     750               1   \n",
       "3              1         14.49       14.49  1/8/2016     750               1   \n",
       "4              2         69.98       34.99  1/9/2016     375               1   \n",
       "\n",
       "   ExciseTax  VendorNo                   VendorName  \n",
       "0       0.79     12546  JIM BEAM BRANDS COMPANY      \n",
       "1       1.57     12546  JIM BEAM BRANDS COMPANY      \n",
       "2       0.79     12546  JIM BEAM BRANDS COMPANY      \n",
       "3       0.79     12546  JIM BEAM BRANDS COMPANY      \n",
       "4       0.79     12546  JIM BEAM BRANDS COMPANY      "
      ]
     },
     "execution_count": 4,
     "metadata": {},
     "output_type": "execute_result"
    }
   ],
   "source": [
    "sales.head(5)"
   ]
  },
  {
   "cell_type": "code",
   "execution_count": 5,
   "id": "1d561eb4",
   "metadata": {
    "execution": {
     "iopub.execute_input": "2023-07-14T04:50:56.571693Z",
     "iopub.status.busy": "2023-07-14T04:50:56.571347Z",
     "iopub.status.idle": "2023-07-14T04:50:56.585949Z",
     "shell.execute_reply": "2023-07-14T04:50:56.584729Z"
    },
    "papermill": {
     "duration": 0.033641,
     "end_time": "2023-07-14T04:50:56.590071",
     "exception": false,
     "start_time": "2023-07-14T04:50:56.556430",
     "status": "completed"
    },
    "tags": []
   },
   "outputs": [
    {
     "data": {
      "text/html": [
       "<div>\n",
       "<style scoped>\n",
       "    .dataframe tbody tr th:only-of-type {\n",
       "        vertical-align: middle;\n",
       "    }\n",
       "\n",
       "    .dataframe tbody tr th {\n",
       "        vertical-align: top;\n",
       "    }\n",
       "\n",
       "    .dataframe thead th {\n",
       "        text-align: right;\n",
       "    }\n",
       "</style>\n",
       "<table border=\"1\" class=\"dataframe\">\n",
       "  <thead>\n",
       "    <tr style=\"text-align: right;\">\n",
       "      <th></th>\n",
       "      <th>InventoryId</th>\n",
       "      <th>Store</th>\n",
       "      <th>City</th>\n",
       "      <th>Brand</th>\n",
       "      <th>Description</th>\n",
       "      <th>Size</th>\n",
       "      <th>onHand</th>\n",
       "      <th>Price</th>\n",
       "      <th>startDate</th>\n",
       "    </tr>\n",
       "  </thead>\n",
       "  <tbody>\n",
       "    <tr>\n",
       "      <th>0</th>\n",
       "      <td>1_HARDERSFIELD_58</td>\n",
       "      <td>1</td>\n",
       "      <td>HARDERSFIELD</td>\n",
       "      <td>58</td>\n",
       "      <td>Gekkeikan Black &amp; Gold Sake</td>\n",
       "      <td>750mL</td>\n",
       "      <td>8</td>\n",
       "      <td>12.99</td>\n",
       "      <td>2016-01-01</td>\n",
       "    </tr>\n",
       "    <tr>\n",
       "      <th>1</th>\n",
       "      <td>1_HARDERSFIELD_60</td>\n",
       "      <td>1</td>\n",
       "      <td>HARDERSFIELD</td>\n",
       "      <td>60</td>\n",
       "      <td>Canadian Club 1858 VAP</td>\n",
       "      <td>750mL</td>\n",
       "      <td>7</td>\n",
       "      <td>10.99</td>\n",
       "      <td>2016-01-01</td>\n",
       "    </tr>\n",
       "    <tr>\n",
       "      <th>2</th>\n",
       "      <td>1_HARDERSFIELD_62</td>\n",
       "      <td>1</td>\n",
       "      <td>HARDERSFIELD</td>\n",
       "      <td>62</td>\n",
       "      <td>Herradura Silver Tequila</td>\n",
       "      <td>750mL</td>\n",
       "      <td>6</td>\n",
       "      <td>36.99</td>\n",
       "      <td>2016-01-01</td>\n",
       "    </tr>\n",
       "    <tr>\n",
       "      <th>3</th>\n",
       "      <td>1_HARDERSFIELD_63</td>\n",
       "      <td>1</td>\n",
       "      <td>HARDERSFIELD</td>\n",
       "      <td>63</td>\n",
       "      <td>Herradura Reposado Tequila</td>\n",
       "      <td>750mL</td>\n",
       "      <td>3</td>\n",
       "      <td>38.99</td>\n",
       "      <td>2016-01-01</td>\n",
       "    </tr>\n",
       "    <tr>\n",
       "      <th>4</th>\n",
       "      <td>1_HARDERSFIELD_72</td>\n",
       "      <td>1</td>\n",
       "      <td>HARDERSFIELD</td>\n",
       "      <td>72</td>\n",
       "      <td>No. 3 London Dry Gin</td>\n",
       "      <td>750mL</td>\n",
       "      <td>6</td>\n",
       "      <td>34.99</td>\n",
       "      <td>2016-01-01</td>\n",
       "    </tr>\n",
       "  </tbody>\n",
       "</table>\n",
       "</div>"
      ],
      "text/plain": [
       "         InventoryId  Store          City  Brand                  Description  \\\n",
       "0  1_HARDERSFIELD_58      1  HARDERSFIELD     58  Gekkeikan Black & Gold Sake   \n",
       "1  1_HARDERSFIELD_60      1  HARDERSFIELD     60       Canadian Club 1858 VAP   \n",
       "2  1_HARDERSFIELD_62      1  HARDERSFIELD     62     Herradura Silver Tequila   \n",
       "3  1_HARDERSFIELD_63      1  HARDERSFIELD     63   Herradura Reposado Tequila   \n",
       "4  1_HARDERSFIELD_72      1  HARDERSFIELD     72         No. 3 London Dry Gin   \n",
       "\n",
       "    Size  onHand  Price   startDate  \n",
       "0  750mL       8  12.99  2016-01-01  \n",
       "1  750mL       7  10.99  2016-01-01  \n",
       "2  750mL       6  36.99  2016-01-01  \n",
       "3  750mL       3  38.99  2016-01-01  \n",
       "4  750mL       6  34.99  2016-01-01  "
      ]
     },
     "execution_count": 5,
     "metadata": {},
     "output_type": "execute_result"
    }
   ],
   "source": [
    "BegInv.head(5)"
   ]
  },
  {
   "cell_type": "code",
   "execution_count": 6,
   "id": "a692ff2b",
   "metadata": {
    "execution": {
     "iopub.execute_input": "2023-07-14T04:50:56.617525Z",
     "iopub.status.busy": "2023-07-14T04:50:56.617214Z",
     "iopub.status.idle": "2023-07-14T04:50:56.633752Z",
     "shell.execute_reply": "2023-07-14T04:50:56.632744Z"
    },
    "papermill": {
     "duration": 0.0326,
     "end_time": "2023-07-14T04:50:56.636114",
     "exception": false,
     "start_time": "2023-07-14T04:50:56.603514",
     "status": "completed"
    },
    "tags": []
   },
   "outputs": [
    {
     "data": {
      "text/html": [
       "<div>\n",
       "<style scoped>\n",
       "    .dataframe tbody tr th:only-of-type {\n",
       "        vertical-align: middle;\n",
       "    }\n",
       "\n",
       "    .dataframe tbody tr th {\n",
       "        vertical-align: top;\n",
       "    }\n",
       "\n",
       "    .dataframe thead th {\n",
       "        text-align: right;\n",
       "    }\n",
       "</style>\n",
       "<table border=\"1\" class=\"dataframe\">\n",
       "  <thead>\n",
       "    <tr style=\"text-align: right;\">\n",
       "      <th></th>\n",
       "      <th>Brand</th>\n",
       "      <th>Description</th>\n",
       "      <th>Price</th>\n",
       "      <th>Size</th>\n",
       "      <th>Volume</th>\n",
       "      <th>Classification</th>\n",
       "      <th>PurchasePrice</th>\n",
       "      <th>VendorNumber</th>\n",
       "      <th>VendorName</th>\n",
       "    </tr>\n",
       "  </thead>\n",
       "  <tbody>\n",
       "    <tr>\n",
       "      <th>0</th>\n",
       "      <td>58</td>\n",
       "      <td>Gekkeikan Black &amp; Gold Sake</td>\n",
       "      <td>12.99</td>\n",
       "      <td>750mL</td>\n",
       "      <td>750</td>\n",
       "      <td>1</td>\n",
       "      <td>9.28</td>\n",
       "      <td>8320</td>\n",
       "      <td>SHAW ROSS INT L IMP LTD</td>\n",
       "    </tr>\n",
       "    <tr>\n",
       "      <th>1</th>\n",
       "      <td>62</td>\n",
       "      <td>Herradura Silver Tequila</td>\n",
       "      <td>36.99</td>\n",
       "      <td>750mL</td>\n",
       "      <td>750</td>\n",
       "      <td>1</td>\n",
       "      <td>28.67</td>\n",
       "      <td>1128</td>\n",
       "      <td>BROWN-FORMAN CORP</td>\n",
       "    </tr>\n",
       "    <tr>\n",
       "      <th>2</th>\n",
       "      <td>63</td>\n",
       "      <td>Herradura Reposado Tequila</td>\n",
       "      <td>38.99</td>\n",
       "      <td>750mL</td>\n",
       "      <td>750</td>\n",
       "      <td>1</td>\n",
       "      <td>30.46</td>\n",
       "      <td>1128</td>\n",
       "      <td>BROWN-FORMAN CORP</td>\n",
       "    </tr>\n",
       "    <tr>\n",
       "      <th>3</th>\n",
       "      <td>72</td>\n",
       "      <td>No. 3 London Dry Gin</td>\n",
       "      <td>34.99</td>\n",
       "      <td>750mL</td>\n",
       "      <td>750</td>\n",
       "      <td>1</td>\n",
       "      <td>26.11</td>\n",
       "      <td>9165</td>\n",
       "      <td>ULTRA BEVERAGE COMPANY LLP</td>\n",
       "    </tr>\n",
       "    <tr>\n",
       "      <th>4</th>\n",
       "      <td>75</td>\n",
       "      <td>Three Olives Tomato Vodka</td>\n",
       "      <td>14.99</td>\n",
       "      <td>750mL</td>\n",
       "      <td>750</td>\n",
       "      <td>1</td>\n",
       "      <td>10.94</td>\n",
       "      <td>7245</td>\n",
       "      <td>PROXIMO SPIRITS INC.</td>\n",
       "    </tr>\n",
       "  </tbody>\n",
       "</table>\n",
       "</div>"
      ],
      "text/plain": [
       "   Brand                  Description  Price   Size Volume  Classification  \\\n",
       "0     58  Gekkeikan Black & Gold Sake  12.99  750mL    750               1   \n",
       "1     62     Herradura Silver Tequila  36.99  750mL    750               1   \n",
       "2     63   Herradura Reposado Tequila  38.99  750mL    750               1   \n",
       "3     72         No. 3 London Dry Gin  34.99  750mL    750               1   \n",
       "4     75    Three Olives Tomato Vodka  14.99  750mL    750               1   \n",
       "\n",
       "   PurchasePrice  VendorNumber                   VendorName  \n",
       "0           9.28          8320  SHAW ROSS INT L IMP LTD      \n",
       "1          28.67          1128  BROWN-FORMAN CORP            \n",
       "2          30.46          1128  BROWN-FORMAN CORP            \n",
       "3          26.11          9165  ULTRA BEVERAGE COMPANY LLP   \n",
       "4          10.94          7245  PROXIMO SPIRITS INC.         "
      ]
     },
     "execution_count": 6,
     "metadata": {},
     "output_type": "execute_result"
    }
   ],
   "source": [
    "PurchasePrice.head(5)"
   ]
  },
  {
   "cell_type": "code",
   "execution_count": 7,
   "id": "b9178534",
   "metadata": {
    "execution": {
     "iopub.execute_input": "2023-07-14T04:50:56.663786Z",
     "iopub.status.busy": "2023-07-14T04:50:56.663452Z",
     "iopub.status.idle": "2023-07-14T04:50:56.681306Z",
     "shell.execute_reply": "2023-07-14T04:50:56.680252Z"
    },
    "papermill": {
     "duration": 0.034801,
     "end_time": "2023-07-14T04:50:56.684596",
     "exception": false,
     "start_time": "2023-07-14T04:50:56.649795",
     "status": "completed"
    },
    "tags": []
   },
   "outputs": [
    {
     "data": {
      "text/html": [
       "<div>\n",
       "<style scoped>\n",
       "    .dataframe tbody tr th:only-of-type {\n",
       "        vertical-align: middle;\n",
       "    }\n",
       "\n",
       "    .dataframe tbody tr th {\n",
       "        vertical-align: top;\n",
       "    }\n",
       "\n",
       "    .dataframe thead th {\n",
       "        text-align: right;\n",
       "    }\n",
       "</style>\n",
       "<table border=\"1\" class=\"dataframe\">\n",
       "  <thead>\n",
       "    <tr style=\"text-align: right;\">\n",
       "      <th></th>\n",
       "      <th>InventoryId</th>\n",
       "      <th>Store</th>\n",
       "      <th>Brand</th>\n",
       "      <th>Description</th>\n",
       "      <th>Size</th>\n",
       "      <th>VendorNumber</th>\n",
       "      <th>VendorName</th>\n",
       "      <th>PONumber</th>\n",
       "      <th>PODate</th>\n",
       "      <th>ReceivingDate</th>\n",
       "      <th>InvoiceDate</th>\n",
       "      <th>PayDate</th>\n",
       "      <th>PurchasePrice</th>\n",
       "      <th>Quantity</th>\n",
       "      <th>Dollars</th>\n",
       "      <th>Classification</th>\n",
       "    </tr>\n",
       "  </thead>\n",
       "  <tbody>\n",
       "    <tr>\n",
       "      <th>0</th>\n",
       "      <td>69_MOUNTMEND_8412</td>\n",
       "      <td>69</td>\n",
       "      <td>8412</td>\n",
       "      <td>Tequila Ocho Plata Fresno</td>\n",
       "      <td>750mL</td>\n",
       "      <td>105</td>\n",
       "      <td>ALTAMAR BRANDS LLC</td>\n",
       "      <td>8124</td>\n",
       "      <td>2015-12-21</td>\n",
       "      <td>2016-01-02</td>\n",
       "      <td>2016-01-04</td>\n",
       "      <td>2016-02-16</td>\n",
       "      <td>35.71</td>\n",
       "      <td>6</td>\n",
       "      <td>214.26</td>\n",
       "      <td>1</td>\n",
       "    </tr>\n",
       "    <tr>\n",
       "      <th>1</th>\n",
       "      <td>30_CULCHETH_5255</td>\n",
       "      <td>30</td>\n",
       "      <td>5255</td>\n",
       "      <td>TGI Fridays Ultimte Mudslide</td>\n",
       "      <td>1.75L</td>\n",
       "      <td>4466</td>\n",
       "      <td>AMERICAN VINTAGE BEVERAGE</td>\n",
       "      <td>8137</td>\n",
       "      <td>2015-12-22</td>\n",
       "      <td>2016-01-01</td>\n",
       "      <td>2016-01-07</td>\n",
       "      <td>2016-02-21</td>\n",
       "      <td>9.35</td>\n",
       "      <td>4</td>\n",
       "      <td>37.40</td>\n",
       "      <td>1</td>\n",
       "    </tr>\n",
       "    <tr>\n",
       "      <th>2</th>\n",
       "      <td>34_PITMERDEN_5215</td>\n",
       "      <td>34</td>\n",
       "      <td>5215</td>\n",
       "      <td>TGI Fridays Long Island Iced</td>\n",
       "      <td>1.75L</td>\n",
       "      <td>4466</td>\n",
       "      <td>AMERICAN VINTAGE BEVERAGE</td>\n",
       "      <td>8137</td>\n",
       "      <td>2015-12-22</td>\n",
       "      <td>2016-01-02</td>\n",
       "      <td>2016-01-07</td>\n",
       "      <td>2016-02-21</td>\n",
       "      <td>9.41</td>\n",
       "      <td>5</td>\n",
       "      <td>47.05</td>\n",
       "      <td>1</td>\n",
       "    </tr>\n",
       "    <tr>\n",
       "      <th>3</th>\n",
       "      <td>1_HARDERSFIELD_5255</td>\n",
       "      <td>1</td>\n",
       "      <td>5255</td>\n",
       "      <td>TGI Fridays Ultimte Mudslide</td>\n",
       "      <td>1.75L</td>\n",
       "      <td>4466</td>\n",
       "      <td>AMERICAN VINTAGE BEVERAGE</td>\n",
       "      <td>8137</td>\n",
       "      <td>2015-12-22</td>\n",
       "      <td>2016-01-01</td>\n",
       "      <td>2016-01-07</td>\n",
       "      <td>2016-02-21</td>\n",
       "      <td>9.35</td>\n",
       "      <td>6</td>\n",
       "      <td>56.10</td>\n",
       "      <td>1</td>\n",
       "    </tr>\n",
       "    <tr>\n",
       "      <th>4</th>\n",
       "      <td>76_DONCASTER_2034</td>\n",
       "      <td>76</td>\n",
       "      <td>2034</td>\n",
       "      <td>Glendalough Double Barrel</td>\n",
       "      <td>750mL</td>\n",
       "      <td>388</td>\n",
       "      <td>ATLANTIC IMPORTING COMPANY</td>\n",
       "      <td>8169</td>\n",
       "      <td>2015-12-24</td>\n",
       "      <td>2016-01-02</td>\n",
       "      <td>2016-01-09</td>\n",
       "      <td>2016-02-16</td>\n",
       "      <td>21.32</td>\n",
       "      <td>5</td>\n",
       "      <td>106.60</td>\n",
       "      <td>1</td>\n",
       "    </tr>\n",
       "  </tbody>\n",
       "</table>\n",
       "</div>"
      ],
      "text/plain": [
       "           InventoryId  Store  Brand                   Description   Size  \\\n",
       "0    69_MOUNTMEND_8412     69   8412     Tequila Ocho Plata Fresno  750mL   \n",
       "1     30_CULCHETH_5255     30   5255  TGI Fridays Ultimte Mudslide  1.75L   \n",
       "2    34_PITMERDEN_5215     34   5215  TGI Fridays Long Island Iced  1.75L   \n",
       "3  1_HARDERSFIELD_5255      1   5255  TGI Fridays Ultimte Mudslide  1.75L   \n",
       "4    76_DONCASTER_2034     76   2034     Glendalough Double Barrel  750mL   \n",
       "\n",
       "   VendorNumber                   VendorName  PONumber      PODate  \\\n",
       "0           105  ALTAMAR BRANDS LLC               8124  2015-12-21   \n",
       "1          4466  AMERICAN VINTAGE BEVERAGE        8137  2015-12-22   \n",
       "2          4466  AMERICAN VINTAGE BEVERAGE        8137  2015-12-22   \n",
       "3          4466  AMERICAN VINTAGE BEVERAGE        8137  2015-12-22   \n",
       "4           388  ATLANTIC IMPORTING COMPANY       8169  2015-12-24   \n",
       "\n",
       "  ReceivingDate InvoiceDate     PayDate  PurchasePrice  Quantity  Dollars  \\\n",
       "0    2016-01-02  2016-01-04  2016-02-16          35.71         6   214.26   \n",
       "1    2016-01-01  2016-01-07  2016-02-21           9.35         4    37.40   \n",
       "2    2016-01-02  2016-01-07  2016-02-21           9.41         5    47.05   \n",
       "3    2016-01-01  2016-01-07  2016-02-21           9.35         6    56.10   \n",
       "4    2016-01-02  2016-01-09  2016-02-16          21.32         5   106.60   \n",
       "\n",
       "   Classification  \n",
       "0               1  \n",
       "1               1  \n",
       "2               1  \n",
       "3               1  \n",
       "4               1  "
      ]
     },
     "execution_count": 7,
     "metadata": {},
     "output_type": "execute_result"
    }
   ],
   "source": [
    "PurchasesFinal.head(5)"
   ]
  },
  {
   "cell_type": "code",
   "execution_count": 8,
   "id": "e6ad6c5d",
   "metadata": {
    "execution": {
     "iopub.execute_input": "2023-07-14T04:50:56.712207Z",
     "iopub.status.busy": "2023-07-14T04:50:56.711895Z",
     "iopub.status.idle": "2023-07-14T04:50:56.727303Z",
     "shell.execute_reply": "2023-07-14T04:50:56.726082Z"
    },
    "papermill": {
     "duration": 0.031835,
     "end_time": "2023-07-14T04:50:56.729938",
     "exception": false,
     "start_time": "2023-07-14T04:50:56.698103",
     "status": "completed"
    },
    "tags": []
   },
   "outputs": [
    {
     "data": {
      "text/html": [
       "<div>\n",
       "<style scoped>\n",
       "    .dataframe tbody tr th:only-of-type {\n",
       "        vertical-align: middle;\n",
       "    }\n",
       "\n",
       "    .dataframe tbody tr th {\n",
       "        vertical-align: top;\n",
       "    }\n",
       "\n",
       "    .dataframe thead th {\n",
       "        text-align: right;\n",
       "    }\n",
       "</style>\n",
       "<table border=\"1\" class=\"dataframe\">\n",
       "  <thead>\n",
       "    <tr style=\"text-align: right;\">\n",
       "      <th></th>\n",
       "      <th>VendorNumber</th>\n",
       "      <th>VendorName</th>\n",
       "      <th>InvoiceDate</th>\n",
       "      <th>PONumber</th>\n",
       "      <th>PODate</th>\n",
       "      <th>PayDate</th>\n",
       "      <th>Quantity</th>\n",
       "      <th>Dollars</th>\n",
       "      <th>Freight</th>\n",
       "      <th>Approval</th>\n",
       "    </tr>\n",
       "  </thead>\n",
       "  <tbody>\n",
       "    <tr>\n",
       "      <th>0</th>\n",
       "      <td>105</td>\n",
       "      <td>ALTAMAR BRANDS LLC</td>\n",
       "      <td>2016-01-04</td>\n",
       "      <td>8124</td>\n",
       "      <td>2015-12-21</td>\n",
       "      <td>2016-02-16</td>\n",
       "      <td>6</td>\n",
       "      <td>214.26</td>\n",
       "      <td>3.47</td>\n",
       "      <td>None</td>\n",
       "    </tr>\n",
       "    <tr>\n",
       "      <th>1</th>\n",
       "      <td>4466</td>\n",
       "      <td>AMERICAN VINTAGE BEVERAGE</td>\n",
       "      <td>2016-01-07</td>\n",
       "      <td>8137</td>\n",
       "      <td>2015-12-22</td>\n",
       "      <td>2016-02-21</td>\n",
       "      <td>15</td>\n",
       "      <td>140.55</td>\n",
       "      <td>8.57</td>\n",
       "      <td>None</td>\n",
       "    </tr>\n",
       "    <tr>\n",
       "      <th>2</th>\n",
       "      <td>388</td>\n",
       "      <td>ATLANTIC IMPORTING COMPANY</td>\n",
       "      <td>2016-01-09</td>\n",
       "      <td>8169</td>\n",
       "      <td>2015-12-24</td>\n",
       "      <td>2016-02-16</td>\n",
       "      <td>5</td>\n",
       "      <td>106.60</td>\n",
       "      <td>4.61</td>\n",
       "      <td>None</td>\n",
       "    </tr>\n",
       "    <tr>\n",
       "      <th>3</th>\n",
       "      <td>480</td>\n",
       "      <td>BACARDI USA INC</td>\n",
       "      <td>2016-01-12</td>\n",
       "      <td>8106</td>\n",
       "      <td>2015-12-20</td>\n",
       "      <td>2016-02-05</td>\n",
       "      <td>10100</td>\n",
       "      <td>137483.78</td>\n",
       "      <td>2935.20</td>\n",
       "      <td>None</td>\n",
       "    </tr>\n",
       "    <tr>\n",
       "      <th>4</th>\n",
       "      <td>516</td>\n",
       "      <td>BANFI PRODUCTS CORP</td>\n",
       "      <td>2016-01-07</td>\n",
       "      <td>8170</td>\n",
       "      <td>2015-12-24</td>\n",
       "      <td>2016-02-12</td>\n",
       "      <td>1935</td>\n",
       "      <td>15527.25</td>\n",
       "      <td>429.20</td>\n",
       "      <td>None</td>\n",
       "    </tr>\n",
       "  </tbody>\n",
       "</table>\n",
       "</div>"
      ],
      "text/plain": [
       "   VendorNumber                   VendorName InvoiceDate  PONumber  \\\n",
       "0           105  ALTAMAR BRANDS LLC           2016-01-04      8124   \n",
       "1          4466  AMERICAN VINTAGE BEVERAGE    2016-01-07      8137   \n",
       "2           388  ATLANTIC IMPORTING COMPANY   2016-01-09      8169   \n",
       "3           480  BACARDI USA INC              2016-01-12      8106   \n",
       "4           516  BANFI PRODUCTS CORP          2016-01-07      8170   \n",
       "\n",
       "       PODate     PayDate  Quantity    Dollars  Freight Approval  \n",
       "0  2015-12-21  2016-02-16         6     214.26     3.47     None  \n",
       "1  2015-12-22  2016-02-21        15     140.55     8.57     None  \n",
       "2  2015-12-24  2016-02-16         5     106.60     4.61     None  \n",
       "3  2015-12-20  2016-02-05     10100  137483.78  2935.20     None  \n",
       "4  2015-12-24  2016-02-12      1935   15527.25   429.20     None  "
      ]
     },
     "execution_count": 8,
     "metadata": {},
     "output_type": "execute_result"
    }
   ],
   "source": [
    "purches.head(5)"
   ]
  },
  {
   "cell_type": "markdown",
   "id": "b55236e5",
   "metadata": {
    "papermill": {
     "duration": 0.012584,
     "end_time": "2023-07-14T04:50:56.756484",
     "exception": false,
     "start_time": "2023-07-14T04:50:56.743900",
     "status": "completed"
    },
    "tags": []
   },
   "source": [
    "# Exploratory Data Analysis (EDA)"
   ]
  },
  {
   "cell_type": "markdown",
   "id": "6c9b9541",
   "metadata": {
    "papermill": {
     "duration": 0.012706,
     "end_time": "2023-07-14T04:50:56.782082",
     "exception": false,
     "start_time": "2023-07-14T04:50:56.769376",
     "status": "completed"
    },
    "tags": []
   },
   "source": [
    "<center> <h1 style=\"background-color:black; color:white; font-weight:bold; font-family:Times New Roman; font-size:35px;\" >Exploratory Data Analysis (EDA)</h1></center>"
   ]
  },
  {
   "cell_type": "markdown",
   "id": "ce8935d3",
   "metadata": {
    "papermill": {
     "duration": 0.012704,
     "end_time": "2023-07-14T04:50:56.807757",
     "exception": false,
     "start_time": "2023-07-14T04:50:56.795053",
     "status": "completed"
    },
    "tags": []
   },
   "source": [
    "<h1 style=\"color:Blue;font-weight:bold; border-bottom: 5px solid blue; font-family:Times New Roman;\" >Invoice Purchases</h1>"
   ]
  },
  {
   "cell_type": "code",
   "execution_count": 9,
   "id": "e620beb3",
   "metadata": {
    "execution": {
     "iopub.execute_input": "2023-07-14T04:50:56.835190Z",
     "iopub.status.busy": "2023-07-14T04:50:56.834838Z",
     "iopub.status.idle": "2023-07-14T04:50:56.854958Z",
     "shell.execute_reply": "2023-07-14T04:50:56.854057Z"
    },
    "papermill": {
     "duration": 0.036719,
     "end_time": "2023-07-14T04:50:56.857204",
     "exception": false,
     "start_time": "2023-07-14T04:50:56.820485",
     "status": "completed"
    },
    "tags": []
   },
   "outputs": [
    {
     "data": {
      "text/plain": [
       "VendorNumber    0\n",
       "VendorName      0\n",
       "InvoiceDate     0\n",
       "PONumber        0\n",
       "PODate          0\n",
       "PayDate         0\n",
       "Quantity        0\n",
       "Dollars         0\n",
       "Freight         0\n",
       "Approval        0\n",
       "dtype: int64"
      ]
     },
     "execution_count": 9,
     "metadata": {},
     "output_type": "execute_result"
    }
   ],
   "source": [
    "purches.isnull().sum()"
   ]
  },
  {
   "cell_type": "code",
   "execution_count": 10,
   "id": "0555ddfb",
   "metadata": {
    "execution": {
     "iopub.execute_input": "2023-07-14T04:50:56.885031Z",
     "iopub.status.busy": "2023-07-14T04:50:56.884729Z",
     "iopub.status.idle": "2023-07-14T04:50:56.891628Z",
     "shell.execute_reply": "2023-07-14T04:50:56.890687Z"
    },
    "papermill": {
     "duration": 0.023199,
     "end_time": "2023-07-14T04:50:56.893694",
     "exception": false,
     "start_time": "2023-07-14T04:50:56.870495",
     "status": "completed"
    },
    "tags": []
   },
   "outputs": [
    {
     "data": {
      "text/plain": [
       "(5543, 10)"
      ]
     },
     "execution_count": 10,
     "metadata": {},
     "output_type": "execute_result"
    }
   ],
   "source": [
    "purches.shape"
   ]
  },
  {
   "cell_type": "code",
   "execution_count": 11,
   "id": "cdb3a2e8",
   "metadata": {
    "execution": {
     "iopub.execute_input": "2023-07-14T04:50:56.921575Z",
     "iopub.status.busy": "2023-07-14T04:50:56.921274Z",
     "iopub.status.idle": "2023-07-14T04:50:56.952523Z",
     "shell.execute_reply": "2023-07-14T04:50:56.951570Z"
    },
    "papermill": {
     "duration": 0.047617,
     "end_time": "2023-07-14T04:50:56.954600",
     "exception": false,
     "start_time": "2023-07-14T04:50:56.906983",
     "status": "completed"
    },
    "tags": []
   },
   "outputs": [
    {
     "name": "stdout",
     "output_type": "stream",
     "text": [
      "<class 'pandas.core.frame.DataFrame'>\n",
      "RangeIndex: 5543 entries, 0 to 5542\n",
      "Data columns (total 10 columns):\n",
      " #   Column        Non-Null Count  Dtype  \n",
      "---  ------        --------------  -----  \n",
      " 0   VendorNumber  5543 non-null   int64  \n",
      " 1   VendorName    5543 non-null   object \n",
      " 2   InvoiceDate   5543 non-null   object \n",
      " 3   PONumber      5543 non-null   int64  \n",
      " 4   PODate        5543 non-null   object \n",
      " 5   PayDate       5543 non-null   object \n",
      " 6   Quantity      5543 non-null   int64  \n",
      " 7   Dollars       5543 non-null   float64\n",
      " 8   Freight       5543 non-null   float64\n",
      " 9   Approval      5543 non-null   object \n",
      "dtypes: float64(2), int64(3), object(5)\n",
      "memory usage: 433.2+ KB\n"
     ]
    }
   ],
   "source": [
    "purches.info()"
   ]
  },
  {
   "cell_type": "code",
   "execution_count": 12,
   "id": "261e58a0",
   "metadata": {
    "execution": {
     "iopub.execute_input": "2023-07-14T04:50:56.984409Z",
     "iopub.status.busy": "2023-07-14T04:50:56.984095Z",
     "iopub.status.idle": "2023-07-14T04:50:56.992628Z",
     "shell.execute_reply": "2023-07-14T04:50:56.991740Z"
    },
    "papermill": {
     "duration": 0.026088,
     "end_time": "2023-07-14T04:50:56.994874",
     "exception": false,
     "start_time": "2023-07-14T04:50:56.968786",
     "status": "completed"
    },
    "tags": []
   },
   "outputs": [],
   "source": [
    "purches['InvoiceDate'] = pd.to_datetime(purches['InvoiceDate'])"
   ]
  },
  {
   "cell_type": "code",
   "execution_count": 13,
   "id": "3bf91725",
   "metadata": {
    "execution": {
     "iopub.execute_input": "2023-07-14T04:50:57.025730Z",
     "iopub.status.busy": "2023-07-14T04:50:57.024678Z",
     "iopub.status.idle": "2023-07-14T04:50:57.031122Z",
     "shell.execute_reply": "2023-07-14T04:50:57.030090Z"
    },
    "papermill": {
     "duration": 0.024264,
     "end_time": "2023-07-14T04:50:57.033935",
     "exception": false,
     "start_time": "2023-07-14T04:50:57.009671",
     "status": "completed"
    },
    "tags": []
   },
   "outputs": [],
   "source": [
    "purches['Total Amount'] = purches['Dollars'] + purches['Freight']"
   ]
  },
  {
   "cell_type": "code",
   "execution_count": 14,
   "id": "12318989",
   "metadata": {
    "execution": {
     "iopub.execute_input": "2023-07-14T04:50:57.064201Z",
     "iopub.status.busy": "2023-07-14T04:50:57.063326Z",
     "iopub.status.idle": "2023-07-14T04:50:57.078297Z",
     "shell.execute_reply": "2023-07-14T04:50:57.077311Z"
    },
    "papermill": {
     "duration": 0.031764,
     "end_time": "2023-07-14T04:50:57.080546",
     "exception": false,
     "start_time": "2023-07-14T04:50:57.048782",
     "status": "completed"
    },
    "tags": []
   },
   "outputs": [
    {
     "data": {
      "text/html": [
       "<div>\n",
       "<style scoped>\n",
       "    .dataframe tbody tr th:only-of-type {\n",
       "        vertical-align: middle;\n",
       "    }\n",
       "\n",
       "    .dataframe tbody tr th {\n",
       "        vertical-align: top;\n",
       "    }\n",
       "\n",
       "    .dataframe thead th {\n",
       "        text-align: right;\n",
       "    }\n",
       "</style>\n",
       "<table border=\"1\" class=\"dataframe\">\n",
       "  <thead>\n",
       "    <tr style=\"text-align: right;\">\n",
       "      <th></th>\n",
       "      <th>VendorNumber</th>\n",
       "      <th>VendorName</th>\n",
       "      <th>InvoiceDate</th>\n",
       "      <th>PONumber</th>\n",
       "      <th>PODate</th>\n",
       "      <th>PayDate</th>\n",
       "      <th>Quantity</th>\n",
       "      <th>Dollars</th>\n",
       "      <th>Freight</th>\n",
       "      <th>Approval</th>\n",
       "      <th>Total Amount</th>\n",
       "    </tr>\n",
       "  </thead>\n",
       "  <tbody>\n",
       "    <tr>\n",
       "      <th>0</th>\n",
       "      <td>105</td>\n",
       "      <td>ALTAMAR BRANDS LLC</td>\n",
       "      <td>2016-01-04</td>\n",
       "      <td>8124</td>\n",
       "      <td>2015-12-21</td>\n",
       "      <td>2016-02-16</td>\n",
       "      <td>6</td>\n",
       "      <td>214.26</td>\n",
       "      <td>3.47</td>\n",
       "      <td>None</td>\n",
       "      <td>217.73</td>\n",
       "    </tr>\n",
       "    <tr>\n",
       "      <th>1</th>\n",
       "      <td>4466</td>\n",
       "      <td>AMERICAN VINTAGE BEVERAGE</td>\n",
       "      <td>2016-01-07</td>\n",
       "      <td>8137</td>\n",
       "      <td>2015-12-22</td>\n",
       "      <td>2016-02-21</td>\n",
       "      <td>15</td>\n",
       "      <td>140.55</td>\n",
       "      <td>8.57</td>\n",
       "      <td>None</td>\n",
       "      <td>149.12</td>\n",
       "    </tr>\n",
       "  </tbody>\n",
       "</table>\n",
       "</div>"
      ],
      "text/plain": [
       "   VendorNumber                   VendorName InvoiceDate  PONumber  \\\n",
       "0           105  ALTAMAR BRANDS LLC           2016-01-04      8124   \n",
       "1          4466  AMERICAN VINTAGE BEVERAGE    2016-01-07      8137   \n",
       "\n",
       "       PODate     PayDate  Quantity  Dollars  Freight Approval  Total Amount  \n",
       "0  2015-12-21  2016-02-16         6   214.26     3.47     None        217.73  \n",
       "1  2015-12-22  2016-02-21        15   140.55     8.57     None        149.12  "
      ]
     },
     "execution_count": 14,
     "metadata": {},
     "output_type": "execute_result"
    }
   ],
   "source": [
    "purches.head(2)"
   ]
  },
  {
   "cell_type": "code",
   "execution_count": 15,
   "id": "ebe13e8b",
   "metadata": {
    "execution": {
     "iopub.execute_input": "2023-07-14T04:50:57.111297Z",
     "iopub.status.busy": "2023-07-14T04:50:57.110460Z",
     "iopub.status.idle": "2023-07-14T04:50:57.117679Z",
     "shell.execute_reply": "2023-07-14T04:50:57.116725Z"
    },
    "papermill": {
     "duration": 0.024345,
     "end_time": "2023-07-14T04:50:57.119964",
     "exception": false,
     "start_time": "2023-07-14T04:50:57.095619",
     "status": "completed"
    },
    "tags": []
   },
   "outputs": [
    {
     "data": {
      "text/plain": [
       "array(['None', 'Frank Delahunt'], dtype=object)"
      ]
     },
     "execution_count": 15,
     "metadata": {},
     "output_type": "execute_result"
    }
   ],
   "source": [
    "purches['Approval'].unique()"
   ]
  },
  {
   "cell_type": "code",
   "execution_count": 16,
   "id": "a62a864a",
   "metadata": {
    "execution": {
     "iopub.execute_input": "2023-07-14T04:50:57.149822Z",
     "iopub.status.busy": "2023-07-14T04:50:57.148823Z",
     "iopub.status.idle": "2023-07-14T04:50:57.155533Z",
     "shell.execute_reply": "2023-07-14T04:50:57.154540Z"
    },
    "papermill": {
     "duration": 0.023821,
     "end_time": "2023-07-14T04:50:57.157824",
     "exception": false,
     "start_time": "2023-07-14T04:50:57.134003",
     "status": "completed"
    },
    "tags": []
   },
   "outputs": [],
   "source": [
    "drop = ['VendorNumber','PONumber','PODate']\n",
    "purches.drop(drop, axis = 1, inplace =True)"
   ]
  },
  {
   "cell_type": "code",
   "execution_count": 17,
   "id": "7bc86b67",
   "metadata": {
    "execution": {
     "iopub.execute_input": "2023-07-14T04:50:57.187218Z",
     "iopub.status.busy": "2023-07-14T04:50:57.186374Z",
     "iopub.status.idle": "2023-07-14T04:50:57.193645Z",
     "shell.execute_reply": "2023-07-14T04:50:57.192341Z"
    },
    "papermill": {
     "duration": 0.023872,
     "end_time": "2023-07-14T04:50:57.195675",
     "exception": false,
     "start_time": "2023-07-14T04:50:57.171803",
     "status": "completed"
    },
    "tags": []
   },
   "outputs": [
    {
     "name": "stdout",
     "output_type": "stream",
     "text": [
      "High Prchuse Vendor Name:-  DIAGEO NORTH AMERICA INC    Quantity :- 141660\n"
     ]
    }
   ],
   "source": [
    "High_purchases_item =purches.loc[purches['Quantity'].idxmax(), 'VendorName']\n",
    "Quty = purches['Quantity'].max()\n",
    "print(\"High Prchuse Vendor Name:- \",High_purchases_item,\"Quantity :-\", Quty)\n"
   ]
  },
  {
   "cell_type": "code",
   "execution_count": 18,
   "id": "8654662c",
   "metadata": {
    "execution": {
     "iopub.execute_input": "2023-07-14T04:50:57.224952Z",
     "iopub.status.busy": "2023-07-14T04:50:57.224068Z",
     "iopub.status.idle": "2023-07-14T04:50:57.234979Z",
     "shell.execute_reply": "2023-07-14T04:50:57.233636Z"
    },
    "papermill": {
     "duration": 0.028007,
     "end_time": "2023-07-14T04:50:57.237260",
     "exception": false,
     "start_time": "2023-07-14T04:50:57.209253",
     "status": "completed"
    },
    "tags": []
   },
   "outputs": [
    {
     "name": "stdout",
     "output_type": "stream",
     "text": [
      "Total Number Of Invoice:- 55\n",
      "Spend Total Amount:- 51216828.92\n"
     ]
    }
   ],
   "source": [
    "total_num_of_invoice = purches[purches['VendorName'] == 'DIAGEO NORTH AMERICA INC   '].shape[0]\n",
    "print('Total Number Of Invoice:-',total_num_of_invoice)\n",
    "Spend_Total_Amount =purches.loc[purches['VendorName'] == 'DIAGEO NORTH AMERICA INC   ','Total Amount'].sum()\n",
    "print(\"Spend Total Amount:-\",Spend_Total_Amount)"
   ]
  },
  {
   "cell_type": "code",
   "execution_count": 19,
   "id": "f9cca187",
   "metadata": {
    "execution": {
     "iopub.execute_input": "2023-07-14T04:50:57.268087Z",
     "iopub.status.busy": "2023-07-14T04:50:57.267182Z",
     "iopub.status.idle": "2023-07-14T04:50:57.274489Z",
     "shell.execute_reply": "2023-07-14T04:50:57.273163Z"
    },
    "papermill": {
     "duration": 0.024926,
     "end_time": "2023-07-14T04:50:57.276810",
     "exception": false,
     "start_time": "2023-07-14T04:50:57.251884",
     "status": "completed"
    },
    "tags": []
   },
   "outputs": [
    {
     "name": "stdout",
     "output_type": "stream",
     "text": [
      "Low Prchuse Vendor Name:-  HOOD RIVER DISTILLERS, Inc. Quantity :- 1\n"
     ]
    }
   ],
   "source": [
    "Low_purchases_item =purches.loc[purches['Quantity'].idxmin(), 'VendorName']\n",
    "Quty2 = purches['Quantity'].min()\n",
    "print(\"Low Prchuse Vendor Name:- \",Low_purchases_item,\"Quantity :-\", Quty2)"
   ]
  },
  {
   "cell_type": "code",
   "execution_count": 20,
   "id": "ebd0b924",
   "metadata": {
    "execution": {
     "iopub.execute_input": "2023-07-14T04:50:57.307128Z",
     "iopub.status.busy": "2023-07-14T04:50:57.306259Z",
     "iopub.status.idle": "2023-07-14T04:50:57.314152Z",
     "shell.execute_reply": "2023-07-14T04:50:57.312766Z"
    },
    "papermill": {
     "duration": 0.025118,
     "end_time": "2023-07-14T04:50:57.316575",
     "exception": false,
     "start_time": "2023-07-14T04:50:57.291457",
     "status": "completed"
    },
    "tags": []
   },
   "outputs": [
    {
     "name": "stdout",
     "output_type": "stream",
     "text": [
      "Spend Total Amount:- 24153.480000000003\n"
     ]
    }
   ],
   "source": [
    "Spend_Total_Amount =purches.loc[purches['VendorName'] == 'HOOD RIVER DISTILLERS, Inc.','Total Amount'].sum()\n",
    "print(\"Spend Total Amount:-\",Spend_Total_Amount)"
   ]
  },
  {
   "cell_type": "markdown",
   "id": "4f2df54e",
   "metadata": {
    "papermill": {
     "duration": 0.01366,
     "end_time": "2023-07-14T04:50:57.344803",
     "exception": false,
     "start_time": "2023-07-14T04:50:57.331143",
     "status": "completed"
    },
    "tags": []
   },
   "source": [
    "<h1 style=\"color:Blue;font-weight:bold; border-bottom: 5px solid blue; font-family:Times New Roman;\" >Sales FINAL</h1>"
   ]
  },
  {
   "cell_type": "code",
   "execution_count": 21,
   "id": "58059c0f",
   "metadata": {
    "execution": {
     "iopub.execute_input": "2023-07-14T04:50:57.374507Z",
     "iopub.status.busy": "2023-07-14T04:50:57.374175Z",
     "iopub.status.idle": "2023-07-14T04:50:57.391575Z",
     "shell.execute_reply": "2023-07-14T04:50:57.390555Z"
    },
    "papermill": {
     "duration": 0.03503,
     "end_time": "2023-07-14T04:50:57.393886",
     "exception": false,
     "start_time": "2023-07-14T04:50:57.358856",
     "status": "completed"
    },
    "tags": []
   },
   "outputs": [
    {
     "data": {
      "text/html": [
       "<div>\n",
       "<style scoped>\n",
       "    .dataframe tbody tr th:only-of-type {\n",
       "        vertical-align: middle;\n",
       "    }\n",
       "\n",
       "    .dataframe tbody tr th {\n",
       "        vertical-align: top;\n",
       "    }\n",
       "\n",
       "    .dataframe thead th {\n",
       "        text-align: right;\n",
       "    }\n",
       "</style>\n",
       "<table border=\"1\" class=\"dataframe\">\n",
       "  <thead>\n",
       "    <tr style=\"text-align: right;\">\n",
       "      <th></th>\n",
       "      <th>InventoryId</th>\n",
       "      <th>Store</th>\n",
       "      <th>Brand</th>\n",
       "      <th>Description</th>\n",
       "      <th>Size</th>\n",
       "      <th>SalesQuantity</th>\n",
       "      <th>SalesDollars</th>\n",
       "      <th>SalesPrice</th>\n",
       "      <th>SalesDate</th>\n",
       "      <th>Volume</th>\n",
       "      <th>Classification</th>\n",
       "      <th>ExciseTax</th>\n",
       "      <th>VendorNo</th>\n",
       "      <th>VendorName</th>\n",
       "    </tr>\n",
       "  </thead>\n",
       "  <tbody>\n",
       "    <tr>\n",
       "      <th>0</th>\n",
       "      <td>1_HARDERSFIELD_1004</td>\n",
       "      <td>1</td>\n",
       "      <td>1004</td>\n",
       "      <td>Jim Beam w/2 Rocks Glasses</td>\n",
       "      <td>750mL</td>\n",
       "      <td>1</td>\n",
       "      <td>16.49</td>\n",
       "      <td>16.49</td>\n",
       "      <td>1/1/2016</td>\n",
       "      <td>750</td>\n",
       "      <td>1</td>\n",
       "      <td>0.79</td>\n",
       "      <td>12546</td>\n",
       "      <td>JIM BEAM BRANDS COMPANY</td>\n",
       "    </tr>\n",
       "    <tr>\n",
       "      <th>1</th>\n",
       "      <td>1_HARDERSFIELD_1004</td>\n",
       "      <td>1</td>\n",
       "      <td>1004</td>\n",
       "      <td>Jim Beam w/2 Rocks Glasses</td>\n",
       "      <td>750mL</td>\n",
       "      <td>2</td>\n",
       "      <td>32.98</td>\n",
       "      <td>16.49</td>\n",
       "      <td>1/2/2016</td>\n",
       "      <td>750</td>\n",
       "      <td>1</td>\n",
       "      <td>1.57</td>\n",
       "      <td>12546</td>\n",
       "      <td>JIM BEAM BRANDS COMPANY</td>\n",
       "    </tr>\n",
       "    <tr>\n",
       "      <th>2</th>\n",
       "      <td>1_HARDERSFIELD_1004</td>\n",
       "      <td>1</td>\n",
       "      <td>1004</td>\n",
       "      <td>Jim Beam w/2 Rocks Glasses</td>\n",
       "      <td>750mL</td>\n",
       "      <td>1</td>\n",
       "      <td>16.49</td>\n",
       "      <td>16.49</td>\n",
       "      <td>1/3/2016</td>\n",
       "      <td>750</td>\n",
       "      <td>1</td>\n",
       "      <td>0.79</td>\n",
       "      <td>12546</td>\n",
       "      <td>JIM BEAM BRANDS COMPANY</td>\n",
       "    </tr>\n",
       "    <tr>\n",
       "      <th>3</th>\n",
       "      <td>1_HARDERSFIELD_1004</td>\n",
       "      <td>1</td>\n",
       "      <td>1004</td>\n",
       "      <td>Jim Beam w/2 Rocks Glasses</td>\n",
       "      <td>750mL</td>\n",
       "      <td>1</td>\n",
       "      <td>14.49</td>\n",
       "      <td>14.49</td>\n",
       "      <td>1/8/2016</td>\n",
       "      <td>750</td>\n",
       "      <td>1</td>\n",
       "      <td>0.79</td>\n",
       "      <td>12546</td>\n",
       "      <td>JIM BEAM BRANDS COMPANY</td>\n",
       "    </tr>\n",
       "    <tr>\n",
       "      <th>4</th>\n",
       "      <td>1_HARDERSFIELD_1005</td>\n",
       "      <td>1</td>\n",
       "      <td>1005</td>\n",
       "      <td>Maker's Mark Combo Pack</td>\n",
       "      <td>375mL 2 Pk</td>\n",
       "      <td>2</td>\n",
       "      <td>69.98</td>\n",
       "      <td>34.99</td>\n",
       "      <td>1/9/2016</td>\n",
       "      <td>375</td>\n",
       "      <td>1</td>\n",
       "      <td>0.79</td>\n",
       "      <td>12546</td>\n",
       "      <td>JIM BEAM BRANDS COMPANY</td>\n",
       "    </tr>\n",
       "  </tbody>\n",
       "</table>\n",
       "</div>"
      ],
      "text/plain": [
       "           InventoryId  Store  Brand                 Description        Size  \\\n",
       "0  1_HARDERSFIELD_1004      1   1004  Jim Beam w/2 Rocks Glasses       750mL   \n",
       "1  1_HARDERSFIELD_1004      1   1004  Jim Beam w/2 Rocks Glasses       750mL   \n",
       "2  1_HARDERSFIELD_1004      1   1004  Jim Beam w/2 Rocks Glasses       750mL   \n",
       "3  1_HARDERSFIELD_1004      1   1004  Jim Beam w/2 Rocks Glasses       750mL   \n",
       "4  1_HARDERSFIELD_1005      1   1005     Maker's Mark Combo Pack  375mL 2 Pk   \n",
       "\n",
       "   SalesQuantity  SalesDollars  SalesPrice SalesDate  Volume  Classification  \\\n",
       "0              1         16.49       16.49  1/1/2016     750               1   \n",
       "1              2         32.98       16.49  1/2/2016     750               1   \n",
       "2              1         16.49       16.49  1/3/2016     750               1   \n",
       "3              1         14.49       14.49  1/8/2016     750               1   \n",
       "4              2         69.98       34.99  1/9/2016     375               1   \n",
       "\n",
       "   ExciseTax  VendorNo                   VendorName  \n",
       "0       0.79     12546  JIM BEAM BRANDS COMPANY      \n",
       "1       1.57     12546  JIM BEAM BRANDS COMPANY      \n",
       "2       0.79     12546  JIM BEAM BRANDS COMPANY      \n",
       "3       0.79     12546  JIM BEAM BRANDS COMPANY      \n",
       "4       0.79     12546  JIM BEAM BRANDS COMPANY      "
      ]
     },
     "execution_count": 21,
     "metadata": {},
     "output_type": "execute_result"
    }
   ],
   "source": [
    "sales.head(5)"
   ]
  },
  {
   "cell_type": "code",
   "execution_count": 22,
   "id": "7cbb6582",
   "metadata": {
    "execution": {
     "iopub.execute_input": "2023-07-14T04:50:57.426513Z",
     "iopub.status.busy": "2023-07-14T04:50:57.425889Z",
     "iopub.status.idle": "2023-07-14T04:50:57.475090Z",
     "shell.execute_reply": "2023-07-14T04:50:57.474071Z"
    },
    "papermill": {
     "duration": 0.068102,
     "end_time": "2023-07-14T04:50:57.478006",
     "exception": false,
     "start_time": "2023-07-14T04:50:57.409904",
     "status": "completed"
    },
    "tags": []
   },
   "outputs": [],
   "source": [
    "drop1 = ['InventoryId','VendorNo','Brand',]\n",
    "sales.drop(drop1,axis=1,inplace=True)"
   ]
  },
  {
   "cell_type": "code",
   "execution_count": 23,
   "id": "963e6d19",
   "metadata": {
    "execution": {
     "iopub.execute_input": "2023-07-14T04:50:57.512802Z",
     "iopub.status.busy": "2023-07-14T04:50:57.510435Z",
     "iopub.status.idle": "2023-07-14T04:50:57.534814Z",
     "shell.execute_reply": "2023-07-14T04:50:57.533595Z"
    },
    "papermill": {
     "duration": 0.044191,
     "end_time": "2023-07-14T04:50:57.537572",
     "exception": false,
     "start_time": "2023-07-14T04:50:57.493381",
     "status": "completed"
    },
    "tags": []
   },
   "outputs": [
    {
     "data": {
      "text/html": [
       "<div>\n",
       "<style scoped>\n",
       "    .dataframe tbody tr th:only-of-type {\n",
       "        vertical-align: middle;\n",
       "    }\n",
       "\n",
       "    .dataframe tbody tr th {\n",
       "        vertical-align: top;\n",
       "    }\n",
       "\n",
       "    .dataframe thead th {\n",
       "        text-align: right;\n",
       "    }\n",
       "</style>\n",
       "<table border=\"1\" class=\"dataframe\">\n",
       "  <thead>\n",
       "    <tr style=\"text-align: right;\">\n",
       "      <th></th>\n",
       "      <th>Store</th>\n",
       "      <th>Description</th>\n",
       "      <th>Size</th>\n",
       "      <th>SalesQuantity</th>\n",
       "      <th>SalesDollars</th>\n",
       "      <th>SalesPrice</th>\n",
       "      <th>SalesDate</th>\n",
       "      <th>Volume</th>\n",
       "      <th>Classification</th>\n",
       "      <th>ExciseTax</th>\n",
       "      <th>VendorName</th>\n",
       "    </tr>\n",
       "  </thead>\n",
       "  <tbody>\n",
       "    <tr>\n",
       "      <th>0</th>\n",
       "      <td>1</td>\n",
       "      <td>Jim Beam w/2 Rocks Glasses</td>\n",
       "      <td>750mL</td>\n",
       "      <td>1</td>\n",
       "      <td>16.49</td>\n",
       "      <td>16.49</td>\n",
       "      <td>1/1/2016</td>\n",
       "      <td>750</td>\n",
       "      <td>1</td>\n",
       "      <td>0.79</td>\n",
       "      <td>JIM BEAM BRANDS COMPANY</td>\n",
       "    </tr>\n",
       "    <tr>\n",
       "      <th>1</th>\n",
       "      <td>1</td>\n",
       "      <td>Jim Beam w/2 Rocks Glasses</td>\n",
       "      <td>750mL</td>\n",
       "      <td>2</td>\n",
       "      <td>32.98</td>\n",
       "      <td>16.49</td>\n",
       "      <td>1/2/2016</td>\n",
       "      <td>750</td>\n",
       "      <td>1</td>\n",
       "      <td>1.57</td>\n",
       "      <td>JIM BEAM BRANDS COMPANY</td>\n",
       "    </tr>\n",
       "    <tr>\n",
       "      <th>2</th>\n",
       "      <td>1</td>\n",
       "      <td>Jim Beam w/2 Rocks Glasses</td>\n",
       "      <td>750mL</td>\n",
       "      <td>1</td>\n",
       "      <td>16.49</td>\n",
       "      <td>16.49</td>\n",
       "      <td>1/3/2016</td>\n",
       "      <td>750</td>\n",
       "      <td>1</td>\n",
       "      <td>0.79</td>\n",
       "      <td>JIM BEAM BRANDS COMPANY</td>\n",
       "    </tr>\n",
       "    <tr>\n",
       "      <th>3</th>\n",
       "      <td>1</td>\n",
       "      <td>Jim Beam w/2 Rocks Glasses</td>\n",
       "      <td>750mL</td>\n",
       "      <td>1</td>\n",
       "      <td>14.49</td>\n",
       "      <td>14.49</td>\n",
       "      <td>1/8/2016</td>\n",
       "      <td>750</td>\n",
       "      <td>1</td>\n",
       "      <td>0.79</td>\n",
       "      <td>JIM BEAM BRANDS COMPANY</td>\n",
       "    </tr>\n",
       "    <tr>\n",
       "      <th>4</th>\n",
       "      <td>1</td>\n",
       "      <td>Maker's Mark Combo Pack</td>\n",
       "      <td>375mL 2 Pk</td>\n",
       "      <td>2</td>\n",
       "      <td>69.98</td>\n",
       "      <td>34.99</td>\n",
       "      <td>1/9/2016</td>\n",
       "      <td>375</td>\n",
       "      <td>1</td>\n",
       "      <td>0.79</td>\n",
       "      <td>JIM BEAM BRANDS COMPANY</td>\n",
       "    </tr>\n",
       "    <tr>\n",
       "      <th>...</th>\n",
       "      <td>...</td>\n",
       "      <td>...</td>\n",
       "      <td>...</td>\n",
       "      <td>...</td>\n",
       "      <td>...</td>\n",
       "      <td>...</td>\n",
       "      <td>...</td>\n",
       "      <td>...</td>\n",
       "      <td>...</td>\n",
       "      <td>...</td>\n",
       "      <td>...</td>\n",
       "    </tr>\n",
       "    <tr>\n",
       "      <th>1048570</th>\n",
       "      <td>19</td>\n",
       "      <td>F Coppola Diamond Pnt Nr</td>\n",
       "      <td>750mL</td>\n",
       "      <td>4</td>\n",
       "      <td>51.80</td>\n",
       "      <td>12.95</td>\n",
       "      <td>2/12/2016</td>\n",
       "      <td>750</td>\n",
       "      <td>2</td>\n",
       "      <td>0.45</td>\n",
       "      <td>SOUTHERN WINE &amp; SPIRITS NE</td>\n",
       "    </tr>\n",
       "    <tr>\n",
       "      <th>1048571</th>\n",
       "      <td>19</td>\n",
       "      <td>F Coppola Diamond Pnt Nr</td>\n",
       "      <td>750mL</td>\n",
       "      <td>8</td>\n",
       "      <td>103.60</td>\n",
       "      <td>12.95</td>\n",
       "      <td>2/13/2016</td>\n",
       "      <td>750</td>\n",
       "      <td>2</td>\n",
       "      <td>0.90</td>\n",
       "      <td>SOUTHERN WINE &amp; SPIRITS NE</td>\n",
       "    </tr>\n",
       "    <tr>\n",
       "      <th>1048572</th>\n",
       "      <td>19</td>\n",
       "      <td>F Coppola Diamond Pnt Nr</td>\n",
       "      <td>750mL</td>\n",
       "      <td>1</td>\n",
       "      <td>12.95</td>\n",
       "      <td>12.95</td>\n",
       "      <td>2/19/2016</td>\n",
       "      <td>750</td>\n",
       "      <td>2</td>\n",
       "      <td>0.11</td>\n",
       "      <td>SOUTHERN WINE &amp; SPIRITS NE</td>\n",
       "    </tr>\n",
       "    <tr>\n",
       "      <th>1048573</th>\n",
       "      <td>19</td>\n",
       "      <td>F Coppola Diamond Pnt Nr</td>\n",
       "      <td>750mL</td>\n",
       "      <td>3</td>\n",
       "      <td>38.85</td>\n",
       "      <td>12.95</td>\n",
       "      <td>2/22/2016</td>\n",
       "      <td>750</td>\n",
       "      <td>2</td>\n",
       "      <td>0.34</td>\n",
       "      <td>SOUTHERN WINE &amp; SPIRITS NE</td>\n",
       "    </tr>\n",
       "    <tr>\n",
       "      <th>1048574</th>\n",
       "      <td>19</td>\n",
       "      <td>F Coppola Diamond Pnt Nr</td>\n",
       "      <td>750mL</td>\n",
       "      <td>2</td>\n",
       "      <td>25.90</td>\n",
       "      <td>12.95</td>\n",
       "      <td>2/24/2016</td>\n",
       "      <td>750</td>\n",
       "      <td>2</td>\n",
       "      <td>0.22</td>\n",
       "      <td>SOUTHERN WINE &amp; SPIRITS NE</td>\n",
       "    </tr>\n",
       "  </tbody>\n",
       "</table>\n",
       "<p>1048575 rows × 11 columns</p>\n",
       "</div>"
      ],
      "text/plain": [
       "         Store                 Description        Size  SalesQuantity  \\\n",
       "0            1  Jim Beam w/2 Rocks Glasses       750mL              1   \n",
       "1            1  Jim Beam w/2 Rocks Glasses       750mL              2   \n",
       "2            1  Jim Beam w/2 Rocks Glasses       750mL              1   \n",
       "3            1  Jim Beam w/2 Rocks Glasses       750mL              1   \n",
       "4            1     Maker's Mark Combo Pack  375mL 2 Pk              2   \n",
       "...        ...                         ...         ...            ...   \n",
       "1048570     19    F Coppola Diamond Pnt Nr       750mL              4   \n",
       "1048571     19    F Coppola Diamond Pnt Nr       750mL              8   \n",
       "1048572     19    F Coppola Diamond Pnt Nr       750mL              1   \n",
       "1048573     19    F Coppola Diamond Pnt Nr       750mL              3   \n",
       "1048574     19    F Coppola Diamond Pnt Nr       750mL              2   \n",
       "\n",
       "         SalesDollars  SalesPrice  SalesDate  Volume  Classification  \\\n",
       "0               16.49       16.49   1/1/2016     750               1   \n",
       "1               32.98       16.49   1/2/2016     750               1   \n",
       "2               16.49       16.49   1/3/2016     750               1   \n",
       "3               14.49       14.49   1/8/2016     750               1   \n",
       "4               69.98       34.99   1/9/2016     375               1   \n",
       "...               ...         ...        ...     ...             ...   \n",
       "1048570         51.80       12.95  2/12/2016     750               2   \n",
       "1048571        103.60       12.95  2/13/2016     750               2   \n",
       "1048572         12.95       12.95  2/19/2016     750               2   \n",
       "1048573         38.85       12.95  2/22/2016     750               2   \n",
       "1048574         25.90       12.95  2/24/2016     750               2   \n",
       "\n",
       "         ExciseTax                   VendorName  \n",
       "0             0.79  JIM BEAM BRANDS COMPANY      \n",
       "1             1.57  JIM BEAM BRANDS COMPANY      \n",
       "2             0.79  JIM BEAM BRANDS COMPANY      \n",
       "3             0.79  JIM BEAM BRANDS COMPANY      \n",
       "4             0.79  JIM BEAM BRANDS COMPANY      \n",
       "...            ...                          ...  \n",
       "1048570       0.45  SOUTHERN WINE & SPIRITS NE   \n",
       "1048571       0.90  SOUTHERN WINE & SPIRITS NE   \n",
       "1048572       0.11  SOUTHERN WINE & SPIRITS NE   \n",
       "1048573       0.34  SOUTHERN WINE & SPIRITS NE   \n",
       "1048574       0.22  SOUTHERN WINE & SPIRITS NE   \n",
       "\n",
       "[1048575 rows x 11 columns]"
      ]
     },
     "execution_count": 23,
     "metadata": {},
     "output_type": "execute_result"
    }
   ],
   "source": [
    "sales"
   ]
  },
  {
   "cell_type": "code",
   "execution_count": 24,
   "id": "d27679a1",
   "metadata": {
    "execution": {
     "iopub.execute_input": "2023-07-14T04:50:57.571141Z",
     "iopub.status.busy": "2023-07-14T04:50:57.570525Z",
     "iopub.status.idle": "2023-07-14T04:50:57.581144Z",
     "shell.execute_reply": "2023-07-14T04:50:57.580241Z"
    },
    "papermill": {
     "duration": 0.030176,
     "end_time": "2023-07-14T04:50:57.583211",
     "exception": false,
     "start_time": "2023-07-14T04:50:57.553035",
     "status": "completed"
    },
    "tags": []
   },
   "outputs": [],
   "source": [
    "sales['Total Amount'] = sales['SalesDollars'] + sales['ExciseTax']"
   ]
  },
  {
   "cell_type": "code",
   "execution_count": 25,
   "id": "2e79a3c7",
   "metadata": {
    "execution": {
     "iopub.execute_input": "2023-07-14T04:50:57.614442Z",
     "iopub.status.busy": "2023-07-14T04:50:57.613849Z",
     "iopub.status.idle": "2023-07-14T04:50:57.623149Z",
     "shell.execute_reply": "2023-07-14T04:50:57.621950Z"
    },
    "papermill": {
     "duration": 0.02725,
     "end_time": "2023-07-14T04:50:57.625558",
     "exception": false,
     "start_time": "2023-07-14T04:50:57.598308",
     "status": "completed"
    },
    "tags": []
   },
   "outputs": [
    {
     "name": "stdout",
     "output_type": "stream",
     "text": [
      "High sales Vendor Name:-  E & J GALLO WINERY          Quantity :- 432\n"
     ]
    }
   ],
   "source": [
    "High_sales_item =sales.loc[sales['SalesQuantity'].idxmax(), 'VendorName']\n",
    "Quty3 = sales['SalesQuantity'].max()\n",
    "print(\"High sales Vendor Name:- \",High_sales_item,\"Quantity :-\", Quty3)"
   ]
  },
  {
   "cell_type": "code",
   "execution_count": 26,
   "id": "9b30cab5",
   "metadata": {
    "execution": {
     "iopub.execute_input": "2023-07-14T04:50:57.658567Z",
     "iopub.status.busy": "2023-07-14T04:50:57.658239Z",
     "iopub.status.idle": "2023-07-14T04:50:58.011355Z",
     "shell.execute_reply": "2023-07-14T04:50:58.010077Z"
    },
    "papermill": {
     "duration": 0.372252,
     "end_time": "2023-07-14T04:50:58.013907",
     "exception": false,
     "start_time": "2023-07-14T04:50:57.641655",
     "status": "completed"
    },
    "tags": []
   },
   "outputs": [
    {
     "name": "stdout",
     "output_type": "stream",
     "text": [
      "Total Number Of Invoice:- 65240\n",
      "Spend Total Amount:- 1575923.91\n"
     ]
    }
   ],
   "source": [
    "total_num_of_invoice3 = sales[sales['VendorName'] == 'E & J GALLO WINERY         '].shape[0]\n",
    "print('Total Number Of Invoice:-',total_num_of_invoice3)\n",
    "Spend_Total_Amount3 =sales.loc[sales['VendorName'] == 'E & J GALLO WINERY         ','Total Amount'].sum()\n",
    "print(\"Spend Total Amount:-\",Spend_Total_Amount3)"
   ]
  },
  {
   "cell_type": "code",
   "execution_count": 27,
   "id": "d244d3aa",
   "metadata": {
    "execution": {
     "iopub.execute_input": "2023-07-14T04:50:58.046869Z",
     "iopub.status.busy": "2023-07-14T04:50:58.046494Z",
     "iopub.status.idle": "2023-07-14T04:50:58.054171Z",
     "shell.execute_reply": "2023-07-14T04:50:58.053010Z"
    },
    "papermill": {
     "duration": 0.025969,
     "end_time": "2023-07-14T04:50:58.056359",
     "exception": false,
     "start_time": "2023-07-14T04:50:58.030390",
     "status": "completed"
    },
    "tags": []
   },
   "outputs": [
    {
     "name": "stdout",
     "output_type": "stream",
     "text": [
      "Low sales Vendor Name:-  JIM BEAM BRANDS COMPANY     Quantity :- 1\n"
     ]
    }
   ],
   "source": [
    "Low_sales_item =sales.loc[sales['SalesQuantity'].idxmin(), 'VendorName']\n",
    "Quty4 = sales['SalesQuantity'].min()\n",
    "print(\"Low sales Vendor Name:- \",Low_sales_item,\"Quantity :-\", Quty4)"
   ]
  },
  {
   "cell_type": "code",
   "execution_count": 28,
   "id": "e2c3da5f",
   "metadata": {
    "execution": {
     "iopub.execute_input": "2023-07-14T04:50:58.089350Z",
     "iopub.status.busy": "2023-07-14T04:50:58.088440Z",
     "iopub.status.idle": "2023-07-14T04:50:58.255874Z",
     "shell.execute_reply": "2023-07-14T04:50:58.254769Z"
    },
    "papermill": {
     "duration": 0.186357,
     "end_time": "2023-07-14T04:50:58.258728",
     "exception": false,
     "start_time": "2023-07-14T04:50:58.072371",
     "status": "completed"
    },
    "tags": []
   },
   "outputs": [
    {
     "name": "stdout",
     "output_type": "stream",
     "text": [
      "Spend Total Amount:- 2703876.6599999997\n"
     ]
    }
   ],
   "source": [
    "Spend_Total_Amount4 =sales.loc[sales['VendorName'] == 'JIM BEAM BRANDS COMPANY    ','Total Amount'].sum()\n",
    "print(\"Spend Total Amount:-\",Spend_Total_Amount4)"
   ]
  },
  {
   "cell_type": "code",
   "execution_count": 29,
   "id": "5ca0babb",
   "metadata": {
    "execution": {
     "iopub.execute_input": "2023-07-14T04:50:58.290767Z",
     "iopub.status.busy": "2023-07-14T04:50:58.290143Z",
     "iopub.status.idle": "2023-07-14T04:50:58.393857Z",
     "shell.execute_reply": "2023-07-14T04:50:58.392775Z"
    },
    "papermill": {
     "duration": 0.122365,
     "end_time": "2023-07-14T04:50:58.396520",
     "exception": false,
     "start_time": "2023-07-14T04:50:58.274155",
     "status": "completed"
    },
    "tags": []
   },
   "outputs": [
    {
     "data": {
      "text/plain": [
       "array(['Jim Beam w/2 Rocks Glasses', \"Maker's Mark Combo Pack\",\n",
       "       'F Coppola Dmd Ivry Cab Svgn', ..., 'Anarkos Puglia',\n",
       "       'Bols Creme De Noyaux', 'Austin Hope 10 Syrah'], dtype=object)"
      ]
     },
     "execution_count": 29,
     "metadata": {},
     "output_type": "execute_result"
    }
   ],
   "source": [
    "sales['Description'].unique()"
   ]
  },
  {
   "cell_type": "code",
   "execution_count": 30,
   "id": "501b5074",
   "metadata": {
    "execution": {
     "iopub.execute_input": "2023-07-14T04:50:58.428916Z",
     "iopub.status.busy": "2023-07-14T04:50:58.428531Z",
     "iopub.status.idle": "2023-07-14T04:56:32.114541Z",
     "shell.execute_reply": "2023-07-14T04:56:32.113609Z"
    },
    "papermill": {
     "duration": 333.721902,
     "end_time": "2023-07-14T04:56:32.133904",
     "exception": false,
     "start_time": "2023-07-14T04:50:58.412002",
     "status": "completed"
    },
    "tags": []
   },
   "outputs": [
    {
     "data": {
      "text/plain": [
       "<Axes: xlabel='Total Amount', ylabel='Description'>"
      ]
     },
     "execution_count": 30,
     "metadata": {},
     "output_type": "execute_result"
    },
    {
     "data": {
      "image/png": "[encoded data removed]",
      "text/plain": [
       "<Figure size 640x480 with 1 Axes>"
      ]
     },
     "metadata": {},
     "output_type": "display_data"
    }
   ],
   "source": [
    "sns.barplot(x='Total Amount', y='Description', data=sales)"
   ]
  },
  {
   "cell_type": "code",
   "execution_count": null,
   "id": "d12776d2",
   "metadata": {
    "papermill": {
     "duration": 0.016186,
     "end_time": "2023-07-14T04:56:32.166403",
     "exception": false,
     "start_time": "2023-07-14T04:56:32.150217",
     "status": "completed"
    },
    "tags": []
   },
   "outputs": [],
   "source": []
  }
 ],
 "metadata": {
  "kernelspec": {
   "display_name": "Python 3 (ipykernel)",
   "language": "python",
   "name": "python3"
  },
  "language_info": {
   "codemirror_mode": {
    "name": "ipython",
    "version": 3
   },
   "file_extension": ".py",
   "mimetype": "text/x-python",
   "name": "python",
   "nbconvert_exporter": "python",
   "pygments_lexer": "ipython3",
   "version": "3.10.12"
  },
  "papermill": {
   "default_parameters": {},
   "duration": 366.027869,
   "end_time": "2023-07-14T04:56:35.100915",
   "environment_variables": {},
   "exception": null,
   "input_path": "__notebook__.ipynb",
   "output_path": "__notebook__.ipynb",
   "parameters": {},
   "start_time": "2023-07-14T04:50:29.073046",
   "version": "2.4.0"
  }
 },
 "nbformat": 4,
 "nbformat_minor": 5
}
